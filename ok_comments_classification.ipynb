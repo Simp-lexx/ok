{
 "metadata": {
  "language_info": {
   "codemirror_mode": {
    "name": "ipython",
    "version": 3
   },
   "file_extension": ".py",
   "mimetype": "text/x-python",
   "name": "python",
   "nbconvert_exporter": "python",
   "pygments_lexer": "ipython3",
   "version": "3.8.5-final"
  },
  "orig_nbformat": 2,
  "kernelspec": {
   "name": "python38264bitbd3b59968318497f8408dbb1cb72fbdf",
   "display_name": "Python 3.8.2 64-bit"
  }
 },
 "nbformat": 4,
 "nbformat_minor": 2,
 "cells": [
  {
   "cell_type": "code",
   "execution_count": 1,
   "metadata": {},
   "outputs": [],
   "source": [
    "import os\n",
    "import numpy as np\n",
    "import pandas as pd\n",
    "import matplotlib.pyplot as plt\n",
    "\n",
    "%matplotlib inline\n",
    "from plotly import graph_objs as go\n",
    "import plotly.express as px\n",
    "import plotly.figure_factory as ff\n",
    "\n",
    "import seaborn as sns\n",
    "from collections import Counter"
   ]
  },
  {
   "cell_type": "code",
   "execution_count": 3,
   "metadata": {
    "tags": []
   },
   "outputs": [],
   "source": [
    "with open('train.txt') as f:\n",
    "    train_list = []\n",
    "    for line in f:\n",
    "        s_line = line.strip().split('\\t')\n",
    "        train_list.append(s_line)\n",
    "train_list.sort(key=len, reverse=True)"
   ]
  },
  {
   "cell_type": "code",
   "execution_count": 4,
   "metadata": {},
   "outputs": [],
   "source": [
    "labels_template_list = ['__label__NORMAL', '__label__INSULT', '__label__OBSCENITY', '__label__THREAT']"
   ]
  },
  {
   "cell_type": "code",
   "execution_count": 8,
   "metadata": {},
   "outputs": [],
   "source": [
    "def build_labels_bin(labels_list, input_list):\n",
    "    labels_bin = [input_list[0], input_list[-1]]\n",
    "    for item in labels_list:\n",
    "        if item not in input_list:\n",
    "            labels_bin.append(0)\n",
    "        else:\n",
    "            labels_bin.append(1)\n",
    "    return labels_bin"
   ]
  },
  {
   "cell_type": "code",
   "execution_count": 6,
   "metadata": {},
   "outputs": [],
   "source": [
    "train_df_columns=['id', 'comment', 'normal', 'insult', 'obscenity', 'threat']"
   ]
  },
  {
   "cell_type": "code",
   "execution_count": 7,
   "metadata": {},
   "outputs": [],
   "source": [
    "labels_dict = {'normal': '__label__NORMAL', 'insult': '__label__INSULT', 'obscenity': '__label__OBSCENITY', 'threat': '__label__THREAT'}"
   ]
  },
  {
   "cell_type": "code",
   "execution_count": 10,
   "metadata": {
    "tags": []
   },
   "outputs": [],
   "source": [
    "def build_train_df(input_list):\n",
    "    train_list = []\n",
    "    for item in input_list:\n",
    "        binary_labels = build_labels_bin(labels_template_list, item)\n",
    "        train_list.append(dict(zip(train_df_columns, binary_labels)))\n",
    "    return pd.DataFrame(train_list)"
   ]
  },
  {
   "cell_type": "code",
   "execution_count": 11,
   "metadata": {},
   "outputs": [],
   "source": [
    "train_df = build_train_df(train_list)"
   ]
  },
  {
   "cell_type": "code",
   "execution_count": 13,
   "metadata": {},
   "outputs": [
    {
     "output_type": "execute_result",
     "data": {
      "text/plain": [
       "            id                                            comment  normal  \\\n",
       "148770   99767  а вы думаете что полиция об этом не знает, про...       1   \n",
       "148771   87456  ну а что вы тут возмущаетесь , все ведь точно ...       1   \n",
       "148772  185614  затерли до дыр данный ролик сколько лет ему уж...       1   \n",
       "148773   86412               если проследят за пидором то накажут       0   \n",
       "148774  205906                                     редкий долбоёб       0   \n",
       "\n",
       "        insult  obscenity  threat  \n",
       "148770       0          0       0  \n",
       "148771       0          0       0  \n",
       "148772       0          0       0  \n",
       "148773       1          0       0  \n",
       "148774       1          0       0  "
      ],
      "text/html": "<div>\n<style scoped>\n    .dataframe tbody tr th:only-of-type {\n        vertical-align: middle;\n    }\n\n    .dataframe tbody tr th {\n        vertical-align: top;\n    }\n\n    .dataframe thead th {\n        text-align: right;\n    }\n</style>\n<table border=\"1\" class=\"dataframe\">\n  <thead>\n    <tr style=\"text-align: right;\">\n      <th></th>\n      <th>id</th>\n      <th>comment</th>\n      <th>normal</th>\n      <th>insult</th>\n      <th>obscenity</th>\n      <th>threat</th>\n    </tr>\n  </thead>\n  <tbody>\n    <tr>\n      <th>148770</th>\n      <td>99767</td>\n      <td>а вы думаете что полиция об этом не знает, про...</td>\n      <td>1</td>\n      <td>0</td>\n      <td>0</td>\n      <td>0</td>\n    </tr>\n    <tr>\n      <th>148771</th>\n      <td>87456</td>\n      <td>ну а что вы тут возмущаетесь , все ведь точно ...</td>\n      <td>1</td>\n      <td>0</td>\n      <td>0</td>\n      <td>0</td>\n    </tr>\n    <tr>\n      <th>148772</th>\n      <td>185614</td>\n      <td>затерли до дыр данный ролик сколько лет ему уж...</td>\n      <td>1</td>\n      <td>0</td>\n      <td>0</td>\n      <td>0</td>\n    </tr>\n    <tr>\n      <th>148773</th>\n      <td>86412</td>\n      <td>если проследят за пидором то накажут</td>\n      <td>0</td>\n      <td>1</td>\n      <td>0</td>\n      <td>0</td>\n    </tr>\n    <tr>\n      <th>148774</th>\n      <td>205906</td>\n      <td>редкий долбоёб</td>\n      <td>0</td>\n      <td>1</td>\n      <td>0</td>\n      <td>0</td>\n    </tr>\n  </tbody>\n</table>\n</div>"
     },
     "metadata": {},
     "execution_count": 13
    }
   ],
   "source": [
    "train_df.tail()"
   ]
  },
  {
   "cell_type": "code",
   "execution_count": 14,
   "metadata": {},
   "outputs": [
    {
     "output_type": "stream",
     "name": "stdout",
     "text": [
      "<class 'pandas.core.frame.DataFrame'>\nRangeIndex: 148775 entries, 0 to 148774\nData columns (total 6 columns):\n #   Column     Non-Null Count   Dtype \n---  ------     --------------   ----- \n 0   id         148775 non-null  object\n 1   comment    148775 non-null  object\n 2   normal     148775 non-null  int64 \n 3   insult     148775 non-null  int64 \n 4   obscenity  148775 non-null  int64 \n 5   threat     148775 non-null  int64 \ndtypes: int64(4), object(2)\nmemory usage: 6.8+ MB\n"
     ]
    }
   ],
   "source": [
    "train_df.info()"
   ]
  },
  {
   "cell_type": "code",
   "execution_count": 16,
   "metadata": {},
   "outputs": [],
   "source": [
    "train_df['id'] = train_df['id'].astype('int64')"
   ]
  },
  {
   "cell_type": "code",
   "execution_count": 17,
   "metadata": {},
   "outputs": [
    {
     "output_type": "stream",
     "name": "stdout",
     "text": [
      "<class 'pandas.core.frame.DataFrame'>\nRangeIndex: 148775 entries, 0 to 148774\nData columns (total 6 columns):\n #   Column     Non-Null Count   Dtype \n---  ------     --------------   ----- \n 0   id         148775 non-null  int64 \n 1   comment    148775 non-null  object\n 2   normal     148775 non-null  int64 \n 3   insult     148775 non-null  int64 \n 4   obscenity  148775 non-null  int64 \n 5   threat     148775 non-null  int64 \ndtypes: int64(5), object(1)\nmemory usage: 6.8+ MB\n"
     ]
    }
   ],
   "source": [
    "train_df.info()"
   ]
  },
  {
   "cell_type": "code",
   "execution_count": 18,
   "metadata": {},
   "outputs": [],
   "source": [
    "all_data_df = pd.read_csv('data.txt', sep='\\t', header=None, names=['id', 'comment'])\n",
    "#all_data_df.columns = ['id', 'comment']"
   ]
  },
  {
   "cell_type": "code",
   "execution_count": 20,
   "metadata": {},
   "outputs": [
    {
     "output_type": "stream",
     "name": "stdout",
     "text": [
      "<class 'pandas.core.frame.DataFrame'>\nRangeIndex: 248290 entries, 0 to 248289\nData columns (total 2 columns):\n #   Column   Non-Null Count   Dtype \n---  ------   --------------   ----- \n 0   id       248290 non-null  int64 \n 1   comment  248290 non-null  object\ndtypes: int64(1), object(1)\nmemory usage: 3.8+ MB\n"
     ]
    }
   ],
   "source": [
    "all_data_df.info()"
   ]
  },
  {
   "cell_type": "code",
   "execution_count": 21,
   "metadata": {},
   "outputs": [
    {
     "output_type": "execute_result",
     "data": {
      "text/plain": [
       "(248290, 2)"
      ]
     },
     "metadata": {},
     "execution_count": 21
    }
   ],
   "source": [
    "all_data_df.shape"
   ]
  },
  {
   "cell_type": "code",
   "execution_count": 23,
   "metadata": {},
   "outputs": [
    {
     "output_type": "execute_result",
     "data": {
      "text/plain": [
       "       id                                            comment\n",
       "0   41127                     дворника надо тоже уничтожить!\n",
       "1    6812  моя старшая неделю шипела, не принимала подкид...\n",
       "2    6256                         полностью с вами согласна!\n",
       "3  189636               хоть ногу вверх, ничего не изменится\n",
       "4   99053                     а что значит - левого ребенка?"
      ],
      "text/html": "<div>\n<style scoped>\n    .dataframe tbody tr th:only-of-type {\n        vertical-align: middle;\n    }\n\n    .dataframe tbody tr th {\n        vertical-align: top;\n    }\n\n    .dataframe thead th {\n        text-align: right;\n    }\n</style>\n<table border=\"1\" class=\"dataframe\">\n  <thead>\n    <tr style=\"text-align: right;\">\n      <th></th>\n      <th>id</th>\n      <th>comment</th>\n    </tr>\n  </thead>\n  <tbody>\n    <tr>\n      <th>0</th>\n      <td>41127</td>\n      <td>дворника надо тоже уничтожить!</td>\n    </tr>\n    <tr>\n      <th>1</th>\n      <td>6812</td>\n      <td>моя старшая неделю шипела, не принимала подкид...</td>\n    </tr>\n    <tr>\n      <th>2</th>\n      <td>6256</td>\n      <td>полностью с вами согласна!</td>\n    </tr>\n    <tr>\n      <th>3</th>\n      <td>189636</td>\n      <td>хоть ногу вверх, ничего не изменится</td>\n    </tr>\n    <tr>\n      <th>4</th>\n      <td>99053</td>\n      <td>а что значит - левого ребенка?</td>\n    </tr>\n  </tbody>\n</table>\n</div>"
     },
     "metadata": {},
     "execution_count": 23
    }
   ],
   "source": [
    "all_data_df.head()"
   ]
  },
  {
   "cell_type": "code",
   "execution_count": 24,
   "metadata": {},
   "outputs": [],
   "source": [
    "test_id_df = pd.read_csv('test.txt', sep='\\t', header=None, names=['id'])"
   ]
  },
  {
   "cell_type": "code",
   "execution_count": 26,
   "metadata": {},
   "outputs": [
    {
     "output_type": "execute_result",
     "data": {
      "text/plain": [
       "       id\n",
       "0  167315\n",
       "1  224546\n",
       "2  241309\n",
       "3   31170\n",
       "4  173358"
      ],
      "text/html": "<div>\n<style scoped>\n    .dataframe tbody tr th:only-of-type {\n        vertical-align: middle;\n    }\n\n    .dataframe tbody tr th {\n        vertical-align: top;\n    }\n\n    .dataframe thead th {\n        text-align: right;\n    }\n</style>\n<table border=\"1\" class=\"dataframe\">\n  <thead>\n    <tr style=\"text-align: right;\">\n      <th></th>\n      <th>id</th>\n    </tr>\n  </thead>\n  <tbody>\n    <tr>\n      <th>0</th>\n      <td>167315</td>\n    </tr>\n    <tr>\n      <th>1</th>\n      <td>224546</td>\n    </tr>\n    <tr>\n      <th>2</th>\n      <td>241309</td>\n    </tr>\n    <tr>\n      <th>3</th>\n      <td>31170</td>\n    </tr>\n    <tr>\n      <th>4</th>\n      <td>173358</td>\n    </tr>\n  </tbody>\n</table>\n</div>"
     },
     "metadata": {},
     "execution_count": 26
    }
   ],
   "source": [
    "test_id_df.head()"
   ]
  },
  {
   "cell_type": "code",
   "execution_count": 28,
   "metadata": {},
   "outputs": [
    {
     "output_type": "stream",
     "name": "stdout",
     "text": [
      "<class 'pandas.core.frame.DataFrame'>\nRangeIndex: 99515 entries, 0 to 99514\nData columns (total 1 columns):\n #   Column  Non-Null Count  Dtype\n---  ------  --------------  -----\n 0   id      99515 non-null  int64\ndtypes: int64(1)\nmemory usage: 777.6 KB\n"
     ]
    }
   ],
   "source": [
    "test_id_df.info()"
   ]
  },
  {
   "cell_type": "code",
   "execution_count": 29,
   "metadata": {},
   "outputs": [
    {
     "output_type": "execute_result",
     "data": {
      "text/plain": [
       "(99515, 1)"
      ]
     },
     "metadata": {},
     "execution_count": 29
    }
   ],
   "source": [
    "test_id_df.shape"
   ]
  },
  {
   "cell_type": "code",
   "execution_count": 30,
   "metadata": {},
   "outputs": [],
   "source": [
    "test_df = pd.merge(all_data_df, test_id_df, on='id')"
   ]
  },
  {
   "cell_type": "code",
   "execution_count": 31,
   "metadata": {},
   "outputs": [
    {
     "output_type": "stream",
     "name": "stdout",
     "text": [
      "(248290, 2) (99515, 1) (148775, 6) (99515, 2)\n"
     ]
    }
   ],
   "source": [
    "print(all_data_df.shape, test_id_df.shape, train_df.shape, test_df.shape)"
   ]
  },
  {
   "cell_type": "code",
   "execution_count": null,
   "metadata": {},
   "outputs": [],
   "source": [
    "temp = train_df.groupby('label').count()['comment'].reset_index().sort_values(by='comment',ascending=False)\n",
    "temp.style.background_gradient(cmap='Oranges')"
   ]
  },
  {
   "cell_type": "code",
   "execution_count": null,
   "metadata": {},
   "outputs": [],
   "source": [
    "plt.figure(figsize=(12,6))\\n\",\n",
    "    \"sns.countplot(x='label',data=train_df)\""
   ]
  },
  {
   "cell_type": "code",
   "execution_count": null,
   "metadata": {},
   "outputs": [],
   "source": [
    "fig = go.Figure(go.Funnelarea(\\n\",\n",
    "    \"    text = temp['label'],\\n\",\n",
    "    \"    values = temp['comment'],\\n\",\n",
    "    \"    title = {\\\"position\\\": \\\"top center\\\", \\\"text\\\": \\\"Funnel-Chart of Sentiment Distribution\\\"}\\n\",\n",
    "    \"    ))\\n\",\n",
    "    \"fig.show()"
   ]
  },
  {
   "cell_type": "code",
   "execution_count": null,
   "metadata": {},
   "outputs": [],
   "source": [
    "from sklearn import preprocessing\\n\",\n",
    "    \"lb = preprocessing.LabelBinarizer()\\n\",\n",
    "    \"lb.fit(temp['label'])\\n\",\n",
    "    \"# LabelBinarizer()\\n\",\n",
    "    \"lb.classes_"
   ]
  },
  {
   "cell_type": "code",
   "execution_count": null,
   "metadata": {},
   "outputs": [],
   "source": [
    "lb.transform(temp['label'])"
   ]
  },
  {
   "cell_type": "code",
   "execution_count": null,
   "metadata": {},
   "outputs": [],
   "source": [
    "le = preprocessing.LabelEncoder()\\n\",\n",
    "    \"le.fit(temp['label'])\\n\",\n",
    "    \"le.classes_"
   ]
  },
  {
   "cell_type": "code",
   "execution_count": null,
   "metadata": {},
   "outputs": [],
   "source": [
    "le_labels = le.transform(temp['label'])"
   ]
  },
  {
   "cell_type": "code",
   "execution_count": null,
   "metadata": {},
   "outputs": [],
   "source": [
    "list(le.inverse_transform(le_labels))"
   ]
  },
  {
   "cell_type": "code",
   "execution_count": null,
   "metadata": {},
   "outputs": [],
   "source": [
    "train_df['label_enc'] = le.transform(train_df['label'])"
   ]
  },
  {
   "cell_type": "code",
   "execution_count": null,
   "metadata": {},
   "outputs": [],
   "source": [
    "from sklearn.feature_extraction.text import CountVectorizer"
   ]
  },
  {
   "cell_type": "code",
   "execution_count": null,
   "metadata": {},
   "outputs": [],
   "source": [
    "cv = CountVectorizer()"
   ]
  },
  {
   "cell_type": "code",
   "execution_count": null,
   "metadata": {},
   "outputs": [],
   "source": [
    "m = cv.fit_transform(train_df['comment'])"
   ]
  },
  {
   "cell_type": "code",
   "execution_count": null,
   "metadata": {},
   "outputs": [],
   "source": [
    "m"
   ]
  },
  {
   "cell_type": "code",
   "execution_count": null,
   "metadata": {},
   "outputs": [],
   "source": [
    "\"#del train_df['comment']\\n\",\n",
    "    \"del train_df['label']\""
   ]
  },
  {
   "cell_type": "code",
   "execution_count": null,
   "metadata": {},
   "outputs": [],
   "source": [
    "train_df['label_enc'].hist(bins=len(set(train_df['label_enc'])))"
   ]
  },
  {
   "cell_type": "code",
   "execution_count": null,
   "metadata": {},
   "outputs": [],
   "source": [
    "from sklearn.tree import DecisionTreeClassifier, plot_tree\\n\",\n",
    "    \"from sklearn.ensemble import RandomForestClassifier, ExtraTreesClassifier\\n\",\n",
    "    \"from sklearn.model_selection import train_test_split\""
   ]
  },
  {
   "cell_type": "code",
   "execution_count": null,
   "metadata": {},
   "outputs": [],
   "source": [
    "X_train, X_test, y_train, y_test = train_test_split(m, list(train_df['label_enc']))"
   ]
  },
  {
   "cell_type": "code",
   "execution_count": null,
   "metadata": {},
   "outputs": [],
   "source": [
    "dtc = DecisionTreeClassifier(max_depth=10)"
   ]
  },
  {
   "cell_type": "code",
   "execution_count": null,
   "metadata": {},
   "outputs": [],
   "source": [
    "rfc = RandomForestClassifier(n_jobs=-1)"
   ]
  },
  {
   "cell_type": "code",
   "execution_count": null,
   "metadata": {},
   "outputs": [],
   "source": [
    "rfc.fit(X_train, y_train)"
   ]
  },
  {
   "cell_type": "code",
   "execution_count": null,
   "metadata": {},
   "outputs": [],
   "source": [
    "dtc.fit(X_train, y_train)"
   ]
  },
  {
   "cell_type": "code",
   "execution_count": null,
   "metadata": {},
   "outputs": [],
   "source": [
    "from sklearn.metrics import accuracy_score, f1_score, precision_score, classification_report"
   ]
  },
  {
   "cell_type": "code",
   "execution_count": null,
   "metadata": {},
   "outputs": [],
   "source": [
    "preds = dtc.predict(X_test)"
   ]
  },
  {
   "cell_type": "code",
   "execution_count": null,
   "metadata": {},
   "outputs": [],
   "source": [
    "print('Accuracy: ', float(accuracy_score(y_test, preds)*100), '%')\\n\",\n",
    "    \"print('Precision: ', precision_score(y_test, preds, average='macro'))\\n\",\n",
    "    \"print('Classification report: \\\\n', classification_report(y_test, preds))"
   ]
  },
  {
   "cell_type": "code",
   "execution_count": null,
   "metadata": {},
   "outputs": [],
   "source": [
    "def calculate_metrics(self, submit):\\n\",\n",
    "    \"    df = self.answers.join(submit, on='id')\\n\",\n",
    "    \"\\n\",\n",
    "    \"    y_true = []\\n\",\n",
    "    \"    y_scores = []\\n\",\n",
    "    \"    for idx, row in df.iterrows():\\n\",\n",
    "    \"        answer_labels = row['labels'].split(',')\\n\",\n",
    "    \"        y_true.append([1 if label in answer_labels else 0 for label in LABELS])\\n\",\n",
    "    \"        y_scores.append([row['normal'], row['insult'], row['obscenity'], row['threat']])"
   ]
  },
  {
   "cell_type": "code",
   "execution_count": null,
   "metadata": {},
   "outputs": [],
   "source": [
    "preds_r = rfc.predict(X_test)"
   ]
  },
  {
   "cell_type": "code",
   "execution_count": null,
   "metadata": {},
   "outputs": [],
   "source": [
    "from matplotlib.pylab import rcParams\n",
    "rcParams['figure.figsize'] = 30,20\n",
    "plot_tree(dtc, filled=True)"
   ]
  }
 ]
}